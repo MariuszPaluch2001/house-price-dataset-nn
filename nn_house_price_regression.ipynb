{
  "nbformat": 4,
  "nbformat_minor": 0,
  "metadata": {
    "colab": {
      "provenance": []
    },
    "kernelspec": {
      "name": "python3",
      "display_name": "Python 3"
    },
    "language_info": {
      "name": "python"
    },
    "accelerator": "GPU",
    "gpuClass": "standard"
  },
  "cells": [
    {
      "cell_type": "code",
      "source": [
        "from sklearn.model_selection import train_test_split\n",
        "from sklearn.preprocessing import RobustScaler\n",
        "from sklearn import preprocessing\n",
        "\n",
        "\n",
        "import torch\n",
        "import torch.utils.data as data_torch\n",
        "import torch.nn.functional as F\n",
        "import torch.nn as nn\n",
        "\n",
        "import pandas as pd\n",
        "import numpy as np\n",
        "\n",
        "import seaborn as sns\n",
        "import matplotlib.pyplot as plt"
      ],
      "metadata": {
        "id": "_LWz27YVk_NR"
      },
      "execution_count": null,
      "outputs": []
    },
    {
      "cell_type": "code",
      "source": [
        "device = torch.device('cuda')"
      ],
      "metadata": {
        "id": "J-F6fpSplCtj"
      },
      "execution_count": null,
      "outputs": []
    },
    {
      "cell_type": "code",
      "execution_count": null,
      "metadata": {
        "colab": {
          "base_uri": "https://localhost:8080/"
        },
        "id": "bdlqjSIcUMgP",
        "outputId": "a9587f24-0c42-4e1e-cb58-814938f23336"
      },
      "outputs": [
        {
          "output_type": "stream",
          "name": "stdout",
          "text": [
            "Drive already mounted at /content/drive; to attempt to forcibly remount, call drive.mount(\"/content/drive\", force_remount=True).\n"
          ]
        }
      ],
      "source": [
        "import pickle\n",
        "from google.colab import drive\n",
        "drive.mount('/content/drive')"
      ]
    },
    {
      "cell_type": "code",
      "source": [
        "df_train = pd.read_csv('/content/drive/MyDrive/price_dataset/train_data.csv', delimiter=\",\")"
      ],
      "metadata": {
        "id": "amnGXxUQlFNs"
      },
      "execution_count": null,
      "outputs": []
    },
    {
      "cell_type": "code",
      "source": [
        "df_train.head()"
      ],
      "metadata": {
        "id": "1aa3ml6el2Lc"
      },
      "execution_count": null,
      "outputs": []
    },
    {
      "cell_type": "code",
      "source": [
        "df_train.isnull().any().any()"
      ],
      "metadata": {
        "id": "DLdG92f5l9i9"
      },
      "execution_count": null,
      "outputs": []
    },
    {
      "cell_type": "code",
      "source": [
        "df_train[\"HeatingType\"].replace({item : index for index,item in enumerate(df_train.HeatingType.unique().tolist())}, inplace=True)\n",
        "df_train[\"HallwayType\"].replace({item : index for index,item in enumerate(df_train.HallwayType.unique().tolist())}, inplace=True)\n",
        "df_train[\"AptManageType\"].replace({item : index for index,item in enumerate(df_train.AptManageType.unique().tolist())}, inplace=True)\n",
        "df_train[\"TimeToBusStop\"].replace({item : index for index,item in enumerate(df_train.TimeToBusStop.unique().tolist())}, inplace=True)\n",
        "df_train[\"TimeToSubway\"].replace({item : index for index,item in enumerate(df_train.TimeToSubway.unique().tolist())}, inplace=True)\n",
        "df_train[\"SubwayStation\"].replace({item : index for index,item in enumerate(df_train.SubwayStation.unique().tolist())}, inplace=True)"
      ],
      "metadata": {
        "id": "0X9msQ65qMOa"
      },
      "execution_count": null,
      "outputs": []
    },
    {
      "cell_type": "code",
      "source": [
        "df_train.head()"
      ],
      "metadata": {
        "id": "WZUcmnLDufXa"
      },
      "execution_count": null,
      "outputs": []
    },
    {
      "cell_type": "code",
      "source": [
        "df_train.shape"
      ],
      "metadata": {
        "id": "tjn04Hy1x4f1"
      },
      "execution_count": null,
      "outputs": []
    },
    {
      "cell_type": "code",
      "source": [
        "plt.figure(figsize= (16,16))\n",
        "sns.heatmap(df_train.corr(), color=\"k\", annot=True)"
      ],
      "metadata": {
        "id": "mQ2m0EaG1Btc"
      },
      "execution_count": null,
      "outputs": []
    },
    {
      "cell_type": "code",
      "source": [
        "plt.figure(figsize=(15,20))\n",
        "for i, col in enumerate(list(df_train.columns.values)):\n",
        "    plt.subplot(5,4,i+1)\n",
        "    df_train.boxplot(col)\n",
        "    plt.grid()\n",
        "    plt.tight_layout()"
      ],
      "metadata": {
        "id": "8mgGV1MU2LMo"
      },
      "execution_count": null,
      "outputs": []
    },
    {
      "cell_type": "code",
      "source": [
        "plt.figure(figsize=(20,16))\n",
        "for i, col in enumerate(list(df_train.columns.values)):\n",
        "    plt.subplot(5,4,i+1)\n",
        "    sns.histplot(df_train[col], color='r', kde=True, stat=\"density\", linewidth=0, label='data')\n",
        "    plt.grid()\n",
        "    plt.legend(loc='upper right')\n",
        "    plt.tight_layout()"
      ],
      "metadata": {
        "id": "UjmvFM_m-TpY"
      },
      "execution_count": null,
      "outputs": []
    },
    {
      "cell_type": "code",
      "source": [
        "sns.pairplot(data=df_train, kind='scatter', diag_kind='kde')"
      ],
      "metadata": {
        "id": "JgEigcvsJKWB"
      },
      "execution_count": null,
      "outputs": []
    },
    {
      "cell_type": "code",
      "source": [
        "LR = 2e-2\n",
        "EPOCHS = 200\n",
        "DROPOUT = 0.1\n",
        "BATCH_SIZE = 128"
      ],
      "metadata": {
        "id": "xdD92-pbo85Q"
      },
      "execution_count": null,
      "outputs": []
    },
    {
      "cell_type": "code",
      "source": [
        "class MyRegression(nn.Module):\n",
        "\n",
        "    def __init__(self, num_inputs, num_outputs):\n",
        "        super().__init__()\n",
        "        self.linear1 = nn.Linear(num_inputs, 128)\n",
        "        self.bn1 = nn.BatchNorm1d(128)\n",
        "        self.rel1 = nn.ReLU()\n",
        "        self.dropout1 = nn.Dropout(DROPOUT)\n",
        "        self.linear2 = nn.Linear(128, 64)\n",
        "        self.bn2 = nn.BatchNorm1d(64)\n",
        "        self.rel2 = nn.ReLU()\n",
        "        self.dropout2 = nn.Dropout(DROPOUT)\n",
        "        self.linear3 = nn.Linear(64, 32)\n",
        "        self.bn3 = nn.BatchNorm1d(32)\n",
        "        self.rel3 = nn.ReLU()\n",
        "        self.dropout3 = nn.Dropout(DROPOUT)\n",
        "        self.linear4 = nn.Linear(32, 1)\n",
        "        for m in self.modules():\n",
        "            if isinstance(m, nn.Linear):\n",
        "                nn.init.xavier_normal_(m.weight.data)\n",
        "                \n",
        "    def forward(self, x):\n",
        "        x = self.routine(self.linear1,self.bn1, self.rel1, self.dropout1, x)\n",
        "        x = self.routine(self.linear2,self.bn2, self.rel2, self.dropout2, x)\n",
        "        x = self.routine(self.linear3,self.bn3, self.rel3, self.dropout3, x)\n",
        "        x = self.linear4(x)\n",
        "        return x\n",
        "  \n",
        "    def routine(self, linear_layer, batch_norm, activation, dropout, x):\n",
        "        x = linear_layer(x)\n",
        "        x = batch_norm(x)\n",
        "        x = activation(x)\n",
        "        x = dropout(x)\n",
        "        return x"
      ],
      "metadata": {
        "id": "8jfh_4xYopmb"
      },
      "execution_count": null,
      "outputs": []
    },
    {
      "cell_type": "code",
      "source": [
        "model = MyRegression(16, 1)\n",
        "model = model.float()\n",
        "model.to(device)"
      ],
      "metadata": {
        "id": "YeyGjkcRo6PE"
      },
      "execution_count": null,
      "outputs": []
    },
    {
      "cell_type": "code",
      "source": [
        "X, y = df_train.values[:,1:], df_train.values[:,0]\n",
        "X_train, X_val, y_train, y_val = train_test_split(X, y, test_size=0.2, random_state=123)\n",
        "\n",
        "scaler = RobustScaler()\n",
        "\n",
        "X_train = scaler.fit_transform(X_train)\n",
        "X_val = scaler.transform(X_val)\n",
        "\n",
        "X_train_ts = torch.FloatTensor(X_train)\n",
        "X_val_ts = torch.FloatTensor(X_val)\n",
        "\n",
        "y_train_ts = torch.LongTensor(y_train)\n",
        "y_val_ts = torch.LongTensor(y_val)\n",
        "\n",
        "\n",
        "train_data = data_torch.TensorDataset(X_train_ts, y_train_ts)\n",
        "test_data = data_torch.TensorDataset(X_val_ts, y_val_ts)\n",
        "\n",
        "train_loader = data_torch.DataLoader(train_data, batch_size=BATCH_SIZE, shuffle=True)\n",
        "test_loader = data_torch.DataLoader(test_data, batch_size=BATCH_SIZE, shuffle=False)"
      ],
      "metadata": {
        "id": "raYPk3bZpyhg"
      },
      "execution_count": null,
      "outputs": []
    },
    {
      "cell_type": "code",
      "source": [
        "optimizer = torch.optim.Adam(params=model.parameters(), lr=LR)\n",
        "loss_module = nn.L1Loss()"
      ],
      "metadata": {
        "id": "L4ZxS9yOxvvv"
      },
      "execution_count": null,
      "outputs": []
    },
    {
      "cell_type": "code",
      "source": [
        "# learning loop\n",
        "model.train()\n",
        "loss_list = []\n",
        "for epoch in range(EPOCHS):\n",
        "  for x, y in train_loader:\n",
        "      x = x.to(device)\n",
        "      y = y.to(device)\n",
        "      outputs = model(x)\n",
        "      loss = loss_module(outputs.squeeze(dim=1).float(), y.float())\n",
        "      optimizer.zero_grad()\n",
        "      loss.backward()\n",
        "      optimizer.step()\n",
        "  \n",
        "  loss_list.append(loss.item())\n",
        "  if epoch % 10 == 0:\n",
        "    print(f\"Epoch: {epoch}, loss={loss.item():.3}\")"
      ],
      "metadata": {
        "id": "-2zmRB-Wxx3K"
      },
      "execution_count": null,
      "outputs": []
    },
    {
      "cell_type": "code",
      "source": [
        "plt.plot(loss_list)\n",
        "plt.title(\"Loss per iteration\")\n",
        "plt.xlabel(\"Iteration\")\n",
        "plt.ylabel(\"Loss\")\n",
        "plt.show()"
      ],
      "metadata": {
        "colab": {
          "base_uri": "https://localhost:8080/",
          "height": 295
        },
        "id": "wkipg6QbafVL",
        "outputId": "84059468-885d-479b-fc4b-0a0070980cb9"
      },
      "execution_count": null,
      "outputs": [
        {
          "output_type": "display_data",
          "data": {
            "text/plain": [
              "<Figure size 432x288 with 1 Axes>"
            ],
            "image/png": "[encoded data removed]"
          },
          "metadata": {
            "needs_background": "light"
          }
        }
      ]
    },
    {
      "cell_type": "code",
      "source": [
        "import csv"
      ],
      "metadata": {
        "id": "hjr6BmNJwrOQ"
      },
      "execution_count": null,
      "outputs": []
    },
    {
      "cell_type": "code",
      "source": [
        "model.eval()\n",
        "MSE = 0\n",
        "gather = []\n",
        "with torch.no_grad():\n",
        "    for data, label in test_loader:\n",
        "        data = data.to(device)\n",
        "        label = label.to(device)\n",
        "        preds = model(data.float()).squeeze()\n",
        "        pred_label = torch.cat((label.reshape(-1,1),preds.reshape(-1,1)), 1)\n",
        "        gather.append(pred_label.cpu().numpy())\n",
        "        MSE += ((torch.pow((preds - label), 2)).sum()) / len(label)\n",
        "\n",
        "to_csv = np.concatenate(gather)\n",
        "p_error = np.abs(to_csv[:, 0] - to_csv[:, 1]) / to_csv[:, 0] * 100\n",
        "to_csv = np.column_stack((to_csv, p_error))\n",
        "with open('nn_valid_pred.csv', 'w') as f:\n",
        "    writer = csv.writer(f)\n",
        "    writer.writerow([\"Label\", \"Prediction\", \"Error\"])\n",
        "    writer.writerows(to_csv)\n",
        "\n",
        "print(f\"MSE: {MSE / len(test_loader)}\")\n",
        "\n"
      ],
      "metadata": {
        "colab": {
          "base_uri": "https://localhost:8080/"
        },
        "id": "V6nFi5rVykVt",
        "outputId": "989e3d74-71d8-41e0-b0a9-4b7fedcd8581"
      },
      "execution_count": null,
      "outputs": [
        {
          "output_type": "stream",
          "name": "stdout",
          "text": [
            "MSE: 2013155072.0\n"
          ]
        }
      ]
    },
    {
      "cell_type": "code",
      "source": [
        "sns.histplot(p_error)"
      ],
      "metadata": {
        "id": "Mdd69TlKEs_Y"
      },
      "execution_count": null,
      "outputs": []
    },
    {
      "cell_type": "markdown",
      "source": [
        "#XGboost"
      ],
      "metadata": {
        "id": "qPKB99sycz3q"
      }
    },
    {
      "cell_type": "code",
      "source": [
        "import xgboost as xgb"
      ],
      "metadata": {
        "id": "DG21fdbIc26b"
      },
      "execution_count": null,
      "outputs": []
    },
    {
      "cell_type": "code",
      "source": [
        "xgbc = xgb.XGBRegressor()"
      ],
      "metadata": {
        "id": "75vGhxGxdEl_"
      },
      "execution_count": null,
      "outputs": []
    },
    {
      "cell_type": "code",
      "source": [
        "xgbc.fit(X_train,y_train)"
      ],
      "metadata": {
        "colab": {
          "base_uri": "https://localhost:8080/"
        },
        "id": "1hjJf69fdKRq",
        "outputId": "49bddcf9-7c9f-4d8d-e9c3-61c1639fc7ef"
      },
      "execution_count": null,
      "outputs": [
        {
          "output_type": "stream",
          "name": "stdout",
          "text": [
            "[17:23:04] WARNING: /workspace/src/objective/regression_obj.cu:152: reg:linear is now deprecated in favor of reg:squarederror.\n"
          ]
        },
        {
          "output_type": "execute_result",
          "data": {
            "text/plain": [
              "XGBRegressor()"
            ]
          },
          "metadata": {},
          "execution_count": 510
        }
      ]
    },
    {
      "cell_type": "code",
      "source": [
        "preds = xgbc.predict(X_val)"
      ],
      "metadata": {
        "id": "0UkfS0q5dXUR"
      },
      "execution_count": null,
      "outputs": []
    },
    {
      "cell_type": "code",
      "source": [
        "print(f\"MSE: {((np.power((preds - y_val), 2)).sum()) / len(y_val)}\")"
      ],
      "metadata": {
        "id": "sR1geBJEde0I"
      },
      "execution_count": null,
      "outputs": []
    },
    {
      "cell_type": "code",
      "source": [
        "to_csv = np.concatenate((y_val.reshape(-1,1), preds.reshape(-1,1)), 1)\n",
        "p_error = np.abs(to_csv[:, 0] - to_csv[:, 1]) / to_csv[:, 0] * 100\n",
        "to_csv = np.column_stack((to_csv, p_error))\n",
        "\n",
        "with open('xgboost_valid_pred.csv', 'w') as f:\n",
        "    writer = csv.writer(f)\n",
        "    writer.writerow([\"Label\", \"Prediction\", \"Error\"])\n",
        "    writer.writerows(to_csv)"
      ],
      "metadata": {
        "id": "_l68__z7ey40"
      },
      "execution_count": null,
      "outputs": []
    },
    {
      "cell_type": "code",
      "source": [
        "sns.histplot(p_error)"
      ],
      "metadata": {
        "id": "koqsji2_FCLW"
      },
      "execution_count": null,
      "outputs": []
    }
  ]
}